{
 "cells": [
  {
   "cell_type": "markdown",
   "metadata": {
    "dotnet_interactive": {
     "language": "csharp"
    }
   },
   "source": [
    "# Score Board\n",
    "\n",
    "## Find the carefully hidden 'Score Board' page\n"
   ]
  },
  {
   "cell_type": "code",
   "execution_count": null,
   "metadata": {
    "dotnet_interactive": {
     "language": "csharp"
    }
   },
   "outputs": [],
   "source": [
    "using System.Net.Http;\n",
    "\n",
    "const string BASE_URL = \"http://localhost:3000/\";\n",
    "var BASE_URI = new Uri(BASE_URL); \n",
    "\n",
    "using(var client = new HttpClient()) {\n",
    "    var uri = new Uri(BASE_URI, \"score-board\");\n",
    "    var response = await client.GetAsync(uri);\n",
    "    response.EnsureSuccessStatusCode();\n",
    "}"
   ]
  }
 ],
 "metadata": {
  "kernelspec": {
   "display_name": ".NET (C#)",
   "language": "C#",
   "name": ".net-csharp"
  },
  "language_info": {
   "file_extension": ".cs",
   "mimetype": "text/x-csharp",
   "name": "C#",
   "pygments_lexer": "csharp",
   "version": "9.0"
  },
  "orig_nbformat": 4
 },
 "nbformat": 4,
 "nbformat_minor": 2
}
